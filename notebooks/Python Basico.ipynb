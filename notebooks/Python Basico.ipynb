{
 "cells": [
  {
   "cell_type": "markdown",
   "metadata": {},
   "source": [
    "# Autor: Diego Almanza\n",
    "# Club de Ciencias 2024"
   ]
  },
  {
   "cell_type": "markdown",
   "metadata": {},
   "source": [
    "# Módulo 1: Introducción a Python y Entorno de Desarrollo"
   ]
  },
  {
   "cell_type": "markdown",
   "metadata": {},
   "source": [
    "## Por que aprender Python?\n",
    "\n",
    "Historia: https://www.youtube.com/watch?v=lc5JJTQa4r8\n",
    "\n",
    "Intro + Usos: https://www.youtube.com/watch?v=5Ux7UrR0gcs"
   ]
  },
  {
   "cell_type": "markdown",
   "metadata": {},
   "source": [
    "## Tipos de datos en Python"
   ]
  },
  {
   "cell_type": "markdown",
   "metadata": {},
   "source": [
    "### Numeros enteros, decimales, y caracteres"
   ]
  },
  {
   "cell_type": "markdown",
   "metadata": {},
   "source": [
    "Numeros enteros"
   ]
  },
  {
   "cell_type": "code",
   "execution_count": null,
   "metadata": {},
   "outputs": [],
   "source": [
    "numero = 20\n",
    "numero"
   ]
  },
  {
   "cell_type": "markdown",
   "metadata": {},
   "source": [
    "Decimales"
   ]
  },
  {
   "cell_type": "code",
   "execution_count": null,
   "metadata": {},
   "outputs": [],
   "source": [
    "decimal = 20.0\n",
    "decimal"
   ]
  },
  {
   "cell_type": "markdown",
   "metadata": {},
   "source": [
    "Caracteres"
   ]
  },
  {
   "cell_type": "code",
   "execution_count": null,
   "metadata": {},
   "outputs": [],
   "source": [
    "caracter = '20'\n",
    "caracter"
   ]
  },
  {
   "cell_type": "markdown",
   "metadata": {},
   "source": [
    "### Listas, conjuntos y diccionarios"
   ]
  },
  {
   "cell_type": "markdown",
   "metadata": {},
   "source": [
    "Listas"
   ]
  },
  {
   "cell_type": "code",
   "execution_count": null,
   "metadata": {},
   "outputs": [],
   "source": [
    "lista_numeros = [1,2,3,4,5,6,7,6,5,4,3,2,1]\n",
    "lista_numeros"
   ]
  },
  {
   "cell_type": "markdown",
   "metadata": {},
   "source": [
    "Conjuntos"
   ]
  },
  {
   "cell_type": "code",
   "execution_count": null,
   "metadata": {},
   "outputs": [],
   "source": [
    "conjunto_numeros = {1,2,3,4,5,6,7}\n",
    "conjunto_numeros"
   ]
  },
  {
   "cell_type": "code",
   "execution_count": null,
   "metadata": {},
   "outputs": [],
   "source": [
    "conjunto_numeros = set(lista_numeros)\n",
    "conjunto_numeros"
   ]
  },
  {
   "cell_type": "markdown",
   "metadata": {},
   "source": [
    "Diccionarios"
   ]
  },
  {
   "cell_type": "code",
   "execution_count": null,
   "metadata": {},
   "outputs": [],
   "source": [
    "diccionario_numeros = {\n",
    "    'uno' : 1, \n",
    "    'dos' : 2,\n",
    "    'tres' : 3,\n",
    "    'cuatro' : 4,\n",
    "    'cinco' : 5\n",
    "}\n",
    "diccionario_numeros"
   ]
  },
  {
   "cell_type": "markdown",
   "metadata": {},
   "source": [
    "### Obtener la entrada del usuario"
   ]
  },
  {
   "cell_type": "code",
   "execution_count": null,
   "metadata": {},
   "outputs": [],
   "source": [
    "nombre = str(input('Nombre:'))\n",
    "edad = int(input('Edad?'))\n",
    "\n",
    "print(nombre, edad)"
   ]
  },
  {
   "cell_type": "markdown",
   "metadata": {},
   "source": [
    "### Declaraciones if/else"
   ]
  },
  {
   "cell_type": "code",
   "execution_count": null,
   "metadata": {},
   "outputs": [],
   "source": [
    "if edad >= 18 : \n",
    "    print('Puedes consumir bebidas alcoholicas')\n",
    "else:\n",
    "    print('No tienes la edad suficiente!')"
   ]
  },
  {
   "cell_type": "markdown",
   "metadata": {},
   "source": [
    "### For loops"
   ]
  },
  {
   "cell_type": "code",
   "execution_count": null,
   "metadata": {},
   "outputs": [],
   "source": [
    "for i in range(20):\n",
    "    print(i)"
   ]
  },
  {
   "cell_type": "markdown",
   "metadata": {},
   "source": [
    "### Declarando una funcion"
   ]
  },
  {
   "cell_type": "code",
   "execution_count": null,
   "metadata": {},
   "outputs": [],
   "source": [
    "def confirmar_edad(edad):\n",
    "    if edad >= 18 : \n",
    "        print('Puedes consumir bebidas alcoholicas')\n",
    "    else:\n",
    "        print('No tienes la edad suficiente!')\n",
    "\n",
    "confirmar_edad(21)"
   ]
  },
  {
   "cell_type": "markdown",
   "metadata": {},
   "source": [
    "# Módulo 2: Control de Flujo"
   ]
  },
  {
   "cell_type": "markdown",
   "metadata": {},
   "source": [
    "## Ejercicio 1: Verificación de Número Par/Impar (Facil)\n",
    "\n",
    "Escribe un programa que tome un número como entrada e imprima si es par o impar."
   ]
  },
  {
   "cell_type": "code",
   "execution_count": null,
   "metadata": {},
   "outputs": [],
   "source": [
    "numero = int(input(\"Ingrese un número: \"))\n",
    "\n",
    "if numero % 2 == 0:\n",
    "    print(f\"{numero} es un número par.\")\n",
    "else:\n",
    "    print(f\"{numero} es un número impar.\")"
   ]
  },
  {
   "cell_type": "markdown",
   "metadata": {},
   "source": [
    "## Ejercicio 2: Calculadora Simple (Facil)\n",
    "\n",
    "Crea una calculadora simple que realice operaciones de suma, resta, multiplicación y división. Pide al usuario que ingrese dos números y la operación deseada."
   ]
  },
  {
   "cell_type": "code",
   "execution_count": null,
   "metadata": {},
   "outputs": [],
   "source": [
    "num1 = float(input(\"Ingrese el primer número: \"))\n",
    "num2 = float(input(\"Ingrese el segundo número: \"))\n",
    "operacion = input(\"Ingrese la operación (+, -, *, /): \")\n",
    "\n",
    "if operacion == '+':\n",
    "    resultado = num1 + num2\n",
    "elif operacion == '-':\n",
    "    resultado = num1 - num2\n",
    "elif operacion == '*':\n",
    "    resultado = num1 * num2\n",
    "elif operacion == '/':\n",
    "    if num2 != 0:\n",
    "        resultado = num1 / num2\n",
    "    else:\n",
    "        resultado = \"Error: No se puede dividir por cero.\"\n",
    "else:\n",
    "    resultado = \"Operación no válida.\"\n",
    "\n",
    "print(f\"Resultado: {resultado}\")"
   ]
  },
  {
   "cell_type": "markdown",
   "metadata": {},
   "source": [
    "## Ejercicio 3: Números Primos (Dificil)\n",
    "\n",
    "Escribe un programa que verifique si un número ingresado por el usuario es primo."
   ]
  },
  {
   "cell_type": "code",
   "execution_count": null,
   "metadata": {},
   "outputs": [],
   "source": [
    "numero = int(input(\"Ingrese un número: \"))\n",
    "\n",
    "if numero > 1:\n",
    "    for i in range(2, int(numero**0.5) + 1):\n",
    "        if (numero % i) == 0:\n",
    "            print(f\"{numero} no es un número primo.\")\n",
    "            break\n",
    "    else:\n",
    "        print(f\"{numero} es un número primo.\")\n",
    "else:\n",
    "    print(f\"{numero} no es un número primo.\")"
   ]
  },
  {
   "cell_type": "markdown",
   "metadata": {},
   "source": [
    "## Ejercicio 4: Tabla de Multiplicar (Facil)\n",
    "\n",
    "Genera la tabla de multiplicar del 1 al 10 para un número ingresado por el usuario."
   ]
  },
  {
   "cell_type": "code",
   "execution_count": null,
   "metadata": {},
   "outputs": [],
   "source": [
    "numero = int(input(\"Ingrese un número para ver su tabla de multiplicar: \"))\n",
    "\n",
    "for i in range(1, 11):\n",
    "    resultado = numero * i\n",
    "    print(f\"{numero} x {i} = {resultado}\")"
   ]
  },
  {
   "cell_type": "markdown",
   "metadata": {},
   "source": [
    "# Módulo 3: Estructuras de Datos en Python"
   ]
  },
  {
   "cell_type": "markdown",
   "metadata": {},
   "source": [
    "## Ejercicio 1: Listas y Operaciones Básicas (Facil)\n",
    "\n",
    "1. Crea una lista de números y calcula la suma y el promedio.\n",
    "2. Agrega un nuevo número al final de la lista.\n",
    "3. Elimina el tercer elemento de la lista.\n",
    "4. Imprime la lista en orden inverso."
   ]
  },
  {
   "cell_type": "code",
   "execution_count": null,
   "metadata": {},
   "outputs": [],
   "source": [
    "numeros = [10, 20, 30, 40, 50]\n",
    "\n",
    "suma = sum(numeros)\n",
    "promedio = suma / len(numeros)\n",
    "\n",
    "numeros.append(60)\n",
    "del numeros[2]\n",
    "numeros.reverse()\n",
    "\n",
    "print(\"Lista después de las operaciones:\", numeros)\n",
    "print(\"Suma:\", suma)\n",
    "print(\"Promedio:\", promedio)"
   ]
  },
  {
   "cell_type": "markdown",
   "metadata": {},
   "source": [
    "## Ejercicio 2: Tuplas y Desempaquetado (Facil)\n",
    "\n",
    "1. Crea una tupla con nombres de ciudades.\n",
    "2. Desempaqueta la tupla en variables individuales.\n",
    "3. Modifica el valor de una de las variables y crea una nueva tupla."
   ]
  },
  {
   "cell_type": "code",
   "execution_count": null,
   "metadata": {},
   "outputs": [],
   "source": [
    "ciudades = (\"Nueva York\", \"Londres\", \"París\", \"Tokio\")\n",
    "\n",
    "ciudad1, ciudad2, ciudad3, ciudad4 = ciudades\n",
    "\n",
    "ciudad1 = \"Los Ángeles\"\n",
    "nueva_tupla = ciudad1, ciudad2, ciudad3, ciudad4\n",
    "\n",
    "print(\"Nueva tupla de ciudades:\", nueva_tupla)"
   ]
  },
  {
   "cell_type": "markdown",
   "metadata": {},
   "source": [
    "## Ejercicio 3: Conjuntos y Operaciones (Facil)\n",
    "\n",
    "1. Crea dos conjuntos con elementos comunes y algunos únicos.\n",
    "2. Realiza la unión, intersección y diferencia simétrica entre los conjuntos."
   ]
  },
  {
   "cell_type": "code",
   "execution_count": null,
   "metadata": {},
   "outputs": [],
   "source": [
    "conjunto1 = {1, 2, 3, 4, 5}\n",
    "conjunto2 = {3, 4, 5, 6, 7}\n",
    "\n",
    "union = conjunto1.union(conjunto2)\n",
    "interseccion = conjunto1.intersection(conjunto2)\n",
    "dif_simetrica = conjunto1.symmetric_difference(conjunto2)\n",
    "\n",
    "print(\"Unión:\", union)\n",
    "print(\"Intersección:\", interseccion)\n",
    "print(\"Diferencia Simétrica:\", dif_simetrica)"
   ]
  },
  {
   "cell_type": "markdown",
   "metadata": {},
   "source": [
    "## Ejercicio 4: Diccionarios y Manipulación (Facil)\n",
    "\n",
    "1. Crea un diccionario con información de una persona (nombre, edad, ciudad).\n",
    "2. Agrega una nueva entrada al diccionario.\n",
    "3. Modifica el valor de una entrada existente.\n",
    "4. Imprime todas las claves y valores del diccionario."
   ]
  },
  {
   "cell_type": "code",
   "execution_count": null,
   "metadata": {},
   "outputs": [],
   "source": [
    "persona = {\"nombre\": \"Juan\", \"edad\": 25, \"ciudad\": \"Madrid\"}\n",
    "\n",
    "persona[\"ocupacion\"] = \"Estudiante\"\n",
    "persona[\"edad\"] = 26\n",
    "\n",
    "print(\"Diccionario después de las operaciones:\")\n",
    "for clave, valor in persona.items():\n",
    "    print(f\"{clave}: {valor}\")"
   ]
  },
  {
   "cell_type": "markdown",
   "metadata": {},
   "source": [
    "# Módulo 4: Funciones y Modularidad"
   ]
  },
  {
   "cell_type": "markdown",
   "metadata": {},
   "source": [
    "## Ejercicio 1: Calculadora de Operaciones Básicas (Facil)\n",
    "\n",
    "Crea una calculadora simple que tenga funciones separadas para la suma, resta, multiplicación y división. La función principal debe solicitar al usuario la operación deseada y los números de entrada."
   ]
  },
  {
   "cell_type": "code",
   "execution_count": null,
   "metadata": {},
   "outputs": [],
   "source": [
    "def suma(a, b):\n",
    "    return a + b\n",
    "\n",
    "def resta(a, b):\n",
    "    return a - b\n",
    "\n",
    "def multiplicacion(a, b):\n",
    "    return a * b\n",
    "\n",
    "def division(a, b):\n",
    "    if b != 0:\n",
    "        return a / b\n",
    "    else:\n",
    "        return \"Error: No se puede dividir por cero.\"\n",
    "\n",
    "operacion = input(\"Ingrese la operación (+, -, *, /): \")\n",
    "num1 = float(input(\"Ingrese el primer número: \"))\n",
    "num2 = float(input(\"Ingrese el segundo número: \"))\n",
    "\n",
    "if operacion == '+':\n",
    "    resultado = suma(num1, num2)\n",
    "elif operacion == '-':\n",
    "    resultado = resta(num1, num2)\n",
    "elif operacion == '*':\n",
    "    resultado = multiplicacion(num1, num2)\n",
    "elif operacion == '/':\n",
    "    resultado = division(num1, num2)\n",
    "else:\n",
    "    resultado = \"Operación no válida.\"\n",
    "\n",
    "print(f\"Resultado: {resultado}\")"
   ]
  },
  {
   "cell_type": "markdown",
   "metadata": {},
   "source": [
    "## Ejercicio 2: Conversor de Temperatura (Facil)\n",
    "\n",
    "Crea un programa que tenga funciones separadas para convertir la temperatura de Celsius a Fahrenheit y viceversa. La función principal debe solicitar al usuario la unidad de entrada y la temperatura."
   ]
  },
  {
   "cell_type": "code",
   "execution_count": null,
   "metadata": {},
   "outputs": [],
   "source": [
    "def celsius_a_fahrenheit(celsius):\n",
    "    return celsius * 9/5 + 32\n",
    "\n",
    "def fahrenheit_a_celsius(fahrenheit):\n",
    "    return (fahrenheit - 32) * 5/9\n",
    "\n",
    "unidad = input(\"Ingrese la unidad de temperatura (C/F): \").upper()\n",
    "temperatura = float(input(\"Ingrese la temperatura: \"))\n",
    "\n",
    "if unidad == 'C':\n",
    "    resultado = celsius_a_fahrenheit(temperatura)\n",
    "    print(f\"{temperatura}°C es igual a {resultado:.2f}°F\")\n",
    "elif unidad == 'F':\n",
    "    resultado = fahrenheit_a_celsius(temperatura)\n",
    "    print(f\"{temperatura}°F es igual a {resultado:.2f}°C\")\n",
    "else:\n",
    "    print(\"Unidad no válida.\")"
   ]
  },
  {
   "cell_type": "markdown",
   "metadata": {},
   "source": [
    "## Ejercicio 3: Generador de Contraseñas (Dificil)\n",
    "\n",
    "Crea una función para generar contraseñas aleatorias. Permite que el usuario especifique la longitud de la contraseña y si quiere incluir números y caracteres especiales."
   ]
  },
  {
   "cell_type": "code",
   "execution_count": null,
   "metadata": {},
   "outputs": [],
   "source": [
    "import random\n",
    "import string\n",
    "\n",
    "def generar_contraseña(longitud, incluir_numeros=False, incluir_especiales=False):\n",
    "    caracteres = string.ascii_letters\n",
    "    if incluir_numeros:\n",
    "        caracteres += string.digits\n",
    "    if incluir_especiales:\n",
    "        caracteres += string.punctuation\n",
    "\n",
    "    contraseña = ''.join(random.choice(caracteres) for _ in range(longitud))\n",
    "    return contraseña\n",
    "\n",
    "longitud = int(input(\"Ingrese la longitud de la contraseña: \"))\n",
    "numeros = input(\"¿Incluir números? (Sí/No): \").upper() == 'S'\n",
    "especiales = input(\"¿Incluir caracteres especiales? (Sí/No): \").upper() == 'S'\n",
    "\n",
    "contraseña_generada = generar_contraseña(longitud, numeros, especiales)\n",
    "print(\"Contraseña generada:\", contraseña_generada)"
   ]
  },
  {
   "cell_type": "markdown",
   "metadata": {},
   "source": [
    "# Modulo 5: Usando paquetes en python"
   ]
  },
  {
   "cell_type": "markdown",
   "metadata": {},
   "source": [
    "Importa los paquetes `pandas` y `seaborn`"
   ]
  },
  {
   "cell_type": "code",
   "execution_count": null,
   "metadata": {},
   "outputs": [],
   "source": [
    "import pandas as pd\n",
    "import seaborn as sns\n",
    "import numpy as np\n",
    "import matplotlib.pyplot as plt\n",
    "import scipy as sp\n",
    "\n",
    "%matplotlib inline\n",
    "%config InlineBackend.figure_format = 'retina'"
   ]
  },
  {
   "cell_type": "markdown",
   "metadata": {},
   "source": [
    "Importa una data de prueba con seaborn"
   ]
  },
  {
   "cell_type": "code",
   "execution_count": null,
   "metadata": {},
   "outputs": [],
   "source": [
    "iris = sns.load_dataset('iris')\n",
    "iris.head()"
   ]
  },
  {
   "cell_type": "markdown",
   "metadata": {},
   "source": [
    "## Funciones importantes de aprender"
   ]
  },
  {
   "cell_type": "markdown",
   "metadata": {},
   "source": [
    "Seleccionar las 5 primeras filas"
   ]
  },
  {
   "cell_type": "code",
   "execution_count": null,
   "metadata": {},
   "outputs": [],
   "source": [
    "iris.iloc[0:5, :]"
   ]
  },
  {
   "cell_type": "markdown",
   "metadata": {},
   "source": [
    "Seleccionar la columna `sepal_width`"
   ]
  },
  {
   "cell_type": "code",
   "execution_count": null,
   "metadata": {},
   "outputs": [],
   "source": [
    "iris.loc[:, 'sepal_width']"
   ]
  },
  {
   "cell_type": "markdown",
   "metadata": {},
   "source": [
    "Seleccionar las columnas que contienen la palabra `sepal`"
   ]
  },
  {
   "cell_type": "code",
   "execution_count": null,
   "metadata": {},
   "outputs": [],
   "source": [
    "iris.loc[:, iris.columns.str.contains('sepal')]"
   ]
  },
  {
   "cell_type": "markdown",
   "metadata": {},
   "source": [
    "Comprobar que todos los datos estan presente"
   ]
  },
  {
   "cell_type": "code",
   "execution_count": null,
   "metadata": {},
   "outputs": [],
   "source": [
    "plt.figure(figsize=(11, 8.5))\n",
    "\n",
    "sns.heatmap(iris.isna(), vmin = 0, vmax = 1)\n",
    "plt.show()"
   ]
  },
  {
   "cell_type": "markdown",
   "metadata": {},
   "source": [
    "Operaciones matematicas"
   ]
  },
  {
   "cell_type": "code",
   "execution_count": null,
   "metadata": {},
   "outputs": [],
   "source": [
    "np.mean(iris.loc[:, 'sepal_width'])"
   ]
  },
  {
   "cell_type": "code",
   "execution_count": null,
   "metadata": {},
   "outputs": [],
   "source": [
    "np.median(iris.loc[:, 'sepal_width'])"
   ]
  },
  {
   "cell_type": "code",
   "execution_count": null,
   "metadata": {},
   "outputs": [],
   "source": [
    "np.sum(iris.loc[:, 'sepal_width'])"
   ]
  },
  {
   "cell_type": "code",
   "execution_count": null,
   "metadata": {},
   "outputs": [],
   "source": [
    "np.var(iris.loc[:, 'sepal_width'])"
   ]
  },
  {
   "cell_type": "markdown",
   "metadata": {},
   "source": [
    "Uso de funciones para construir figuras"
   ]
  },
  {
   "cell_type": "code",
   "execution_count": null,
   "metadata": {},
   "outputs": [],
   "source": [
    "plt.figure(figsize=(11, 8.5))\n",
    "\n",
    "sns.clustermap(\n",
    "    iris.iloc[:, 0:4],\n",
    "    cmap = 'vlag',\n",
    "    center = 0.5\n",
    ")\n",
    "plt.show()"
   ]
  },
  {
   "cell_type": "markdown",
   "metadata": {},
   "source": [
    "Estadistica"
   ]
  },
  {
   "cell_type": "code",
   "execution_count": null,
   "metadata": {},
   "outputs": [],
   "source": [
    "stat, p = sp.stats.mannwhitneyu(iris[iris['species'].str.contains('setosa')]['sepal_length'], iris[iris['species'].str.contains('virginica')]['sepal_length'])\n",
    "p"
   ]
  }
 ],
 "metadata": {
  "kernelspec": {
   "display_name": "Python 3",
   "language": "python",
   "name": "python3"
  },
  "language_info": {
   "codemirror_mode": {
    "name": "ipython",
    "version": 3
   },
   "file_extension": ".py",
   "mimetype": "text/x-python",
   "name": "python",
   "nbconvert_exporter": "python",
   "pygments_lexer": "ipython3",
   "version": "3.10.13"
  }
 },
 "nbformat": 4,
 "nbformat_minor": 4
}
